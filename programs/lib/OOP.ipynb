{
 "metadata": {
  "name": "",
  "signature": "sha256:e9d6031403a5869c0449a5fb80d93e9f27d36cd68b4747a7cce945609490be0d"
 },
 "nbformat": 3,
 "nbformat_minor": 0,
 "worksheets": [
  {
   "cells": [
    {
     "cell_type": "markdown",
     "metadata": {},
     "source": [
      "Object-Oriented Programming\n",
      "============================\n",
      "\n",
      "  + Class is the blueprint and objects are its physical existence.\n",
      "  + Object is the mother of all class.\n",
      "  + Here constructor is called `__init__()`\n",
      "  "
     ]
    },
    {
     "cell_type": "code",
     "collapsed": false,
     "input": [
      "class AddrBookEntry(object):\n",
      "    'Address book class'\n",
      "    def __init__(self, name, phoneNO):\n",
      "        self.nm = name\n",
      "        self.phoneNO = phoneNO\n",
      "        print \"Created instance for %s\" % (self.nm)\n",
      "        \n",
      "    def updatePhone(self, newPh):\n",
      "        self.phoneNO = newPh\n",
      "        print \"Updated phone successfully for \", self.nm\n",
      "        \n",
      "print '-'*120        \n",
      "zain = AddrBookEntry('zain', 8451055885)\n",
      "print zain.nm\n",
      "print zain.phoneNO                                                 #Accessing Instance Attributes\n",
      "\n",
      "zain.updatePhone(9987861365)\n",
      "\n",
      "zain.phoneNO                                                  #Method Invocation (via Instance)\n",
      "print '-'*120, '\\n'\n",
      "\n",
      "class EmployeeAddrBookEntry(AddrBookEntry):                      #Creating a Subclasss\n",
      "    'Address book for employee'\n",
      "    def __init__(self, nm, ph, id, email):\n",
      "        AddrBookEntry.__init__(self, nm, ph)\n",
      "        self.empid = id\n",
      "        self.email = email\n",
      "        \n",
      "        \n",
      "    def updateEmail(self, email):\n",
      "        self.email = email\n",
      "        print \"updated email for: \", self.nm\n",
      "        \n",
      "        \n",
      "dangeon =  EmployeeAddrBookEntry('Dangeon', 8451055884, 10, 'someone@somewhere.com')\n",
      "\n",
      "print dangeon.nm\n",
      "print dangeon.phoneNO\n",
      "print dangeon.empid\n",
      "print dangeon.email\n",
      "\n",
      "\n",
      "print \"\"\n",
      "dangeon.updatePhone('220022002200')\n",
      "dangeon.updateEmail('hola@hola')\n",
      "\n",
      "print dangeon.phoneNO\n",
      "print dangeon.email"
     ],
     "language": "python",
     "metadata": {},
     "outputs": [
      {
       "output_type": "stream",
       "stream": "stdout",
       "text": [
        "------------------------------------------------------------------------------------------------------------------------\n",
        "Created instance for zain\n",
        "zain\n",
        "8451055885\n",
        "Updated phone successfully for  zain\n",
        "------------------------------------------------------------------------------------------------------------------------ \n",
        "\n",
        "Created instance for Dangeon\n",
        "Dangeon\n",
        "8451055884\n",
        "10\n",
        "someone@somewhere.com\n",
        "\n",
        "Updated phone successfully for  Dangeon\n",
        "updated email for:  Dangeon\n",
        "220022002200\n",
        "hola@hola\n"
       ]
      }
     ],
     "prompt_number": 25
    },
    {
     "cell_type": "markdown",
     "metadata": {},
     "source": [
      "## Relationship between OOD and OOP\n",
      "   + JAVA vs Python\n",
      "   \n",
      "**Repair-shop analogy**   \n",
      "   \n",
      "# *Buzzword-Compliance   \n",
      "   + **Abstraction/Implementation**\n",
      "           \n",
      "    + Abstraction refers to the modeling of essential aspects, behavior, and characteristics of real-world\n",
      "        problems and entities, providing a relevant subset as the definition of a programmatic structure that can\n",
      "        realize such models. Abstractions not only contain the data attributes of such a model, but also define\n",
      "        interfaces with that data. An implementation of such an abstraction is the realization of that data and\n",
      "        the interfaces that go along with it. Such a realization should remain hidden from and irrelevant to the\n",
      "        client programmer\n",
      "     \n",
      "   + **Encapsulation/Interfaces**\n",
      "       + Encapsulation describes the concept of data/information hiding and providing interfaces or accessor\n",
      "        functions to the data attributes. Direct access to data by any client, bypassing the interfaces, goes\n",
      "        against the principles of encapsulation, but the programmer is free to allow such access. As part of the\n",
      "        implementation, the client should not even know how the data attributes are architected within the\n",
      "        abstraction. ** In Python, all class attributes are public, but names may be \"mangled\" to discourage\n",
      "        unauthorized access, but otherwise not prevented **. It is up to the designer to provide the appropriate\n",
      "        interfaces to the data so that the client programmer does not have to resort to manipulating the\n",
      "        encapsulated data attributes.\n",
      "        \n",
      "   + **Composition**\n",
      "      + Composition extends our description of classes, enabling multiple yet distinct classes to be combined\n",
      "        into a larger entity to solve a real-world problem. Composition describes a singular, complex system\n",
      "        such as a class made up of other, smaller components such as other classes, data attributes, and\n",
      "        behaviors, all of which are combined, embodying \"has-a\" relationships. For example, the RepairShop\n",
      "        \"has a\" Mechanic (hopefully at least one) and also \"has a\" Customer (again, hopefully at least one).\n",
      "   \n",
      "   + **Derivation/Inheritance/Hierarchy**\n",
      "       + Derivation describes the creation of subclasses, new classes that retain all desired data and behavior of\n",
      "        the existing class type but permit modification or other customization, all without having to modify the\n",
      "        original class definition. Inheritance describes the means by which attributes of a subclass are\n",
      "        \"bequeathed from\" an ancestor class. From our earlier example, a Mechanic may have more car skill\n",
      "        attributes than a Customer , but individually, each \"is a\" Person , so it is valid to invoke the talk() method,\n",
      "        which is common to all instances of Person , for either of them. Hierarchy describes multiple\n",
      "        \"generations\" of derivation which can be depicted graphically as a \"family tree,\" with successive\n",
      "        subclasses having relationships with ancestor classes.\n",
      "        \n",
      "   + **Generalization/Specialization** \n",
      "      +  Generalization describes all the traits a subclass has with its parent and ancestor classes, so subclasses\n",
      "        are considered to have an \"is-a\" relationship with ancestor classes because a derived object (instance) is\n",
      "        an \"example\" of an ancestor class. For example, a Mechanic \"is a\" Person , a Car \"is a\" Vehicle , etc. In the\n",
      "        family tree diagram we alluded to above, we can draw lines from subclasses to ancestors indicating \"is-\n",
      "        a\" relationships. Specialization is the term that describes all the customization of a subclass, i.e., what\n",
      "        attributes make it differ from its ancestor classes. \n",
      "        \n",
      "   + **Polymorphism**\n",
      "     + The concept of polymorphism describes how objects can be manipulated and accessed using attributes\n",
      "        and behaviors they have in common without regard to their specific class. Polymorphism indicates the\n",
      "        presence of dynamic (aka late, runtime) binding, allowing for overriding and runtime type determination\n",
      "        and verification.\n",
      "        \n",
      "   + **Introspection/Reflection**\n",
      "     + Introspection is what gives you, the programmer, the ability to perform an activity such as \"manual type\n",
      "        checking.\" Also called reflection, this property describes how information about a particular object can\n",
      "        be accessed by itself during runtime. Would it not be great to have the ability to take an object passed\n",
      "        to you and be able to find out what it is capable of? This is a powerful feature that you will encounter\n",
      "        frequently in this chapter. The dir() and type() built-in functions would have a very difficult time\n",
      "        working if Python did not support some sort of introspection capability. Keep an eye out for these calls\n",
      "        as well as for special attributes like `__dict__` , `__name__` , and `__doc__` . You may even be familiar with\n",
      "        some of them already!"
     ]
    },
    {
     "cell_type": "markdown",
     "metadata": {},
     "source": [
      "## something we already know\n",
      "   + Classes\n",
      "   + Creating Classes\n",
      "   + Class Attributes\n",
      "   + Class Attributes\n",
      "      + chaning with '.' is facinating example\n",
      "         `Class Attributes`\n",
      "   + Class Data Attributes\n",
      "   + Methods"
     ]
    },
    {
     "cell_type": "markdown",
     "metadata": {},
     "source": [
      "## Determining Class Attributes\n",
      "    "
     ]
    },
    {
     "cell_type": "code",
     "collapsed": false,
     "input": [
      "class My_simple_class(object):\n",
      "    'This is Docs'\n",
      "    version = 1.0\n",
      "    def show_Version(self):\n",
      "        print self.version\n",
      "        \n",
      "        \n",
      "print dir(My_simple_class)              #Returns the list of objects\n",
      "\n",
      "print My_simple_class.__dict__\n",
      "print My_simple_class.version               #Class Data Atrribute.\n",
      "print My_simple_class.__class__        \n",
      "print My_simple_class.__name__\n",
      "print My_simple_class.__doc__\n",
      "print My_simple_class.__bases__\n",
      "print My_simple_class.__module__\n"
     ],
     "language": "python",
     "metadata": {},
     "outputs": [
      {
       "output_type": "stream",
       "stream": "stdout",
       "text": [
        "['__class__', '__delattr__', '__dict__', '__doc__', '__format__', '__getattribute__', '__hash__', '__init__', '__module__', '__new__', '__reduce__', '__reduce_ex__', '__repr__', '__setattr__', '__sizeof__', '__str__', '__subclasshook__', '__weakref__', 'show_Version', 'version']\n",
        "{'__module__': '__main__', 'show_Version': <function show_Version at 0x7f17d011f0c8>, 'version': 1.0, '__dict__': <attribute '__dict__' of 'My_simple_class' objects>, '__weakref__': <attribute '__weakref__' of 'My_simple_class' objects>, '__doc__': 'This is Docs'}\n",
        "1.0\n",
        "<type 'type'>\n",
        "My_simple_class\n",
        "This is Docs\n",
        "(<type 'object'>,)\n",
        "__main__\n"
       ]
      }
     ],
     "prompt_number": 31
    },
    {
     "cell_type": "markdown",
     "metadata": {},
     "source": [
      "# Instances\n",
      "# Instantiation: Creating Instances by Invoking Class Object\n",
      "# "
     ]
    },
    {
     "cell_type": "code",
     "collapsed": false,
     "input": [
      "class HotelRoomCalc(object):\n",
      "    'Hotel room rate calculater'\n",
      "    \n",
      "    def __init__(self, rt, sales = 0.085, rm = 0.1 ):\n",
      "        '''HotelRoomCalc default arguments: sales tax == 8.5% and room tax == 10%'''\n",
      "        self.salesTax = sales\n",
      "        self.roomTax = rm\n",
      "        self.roomRate = rt\n",
      "        \n",
      "    def calTotal(self, days = 1):\n",
      "        'Calculate total default to daily rate'\n",
      "        daily = round((self.roomRate * (1 + self.roomTax + self.salesTax)), 2) \n",
      "        return float(days)*daily\n",
      "\n",
      "r1 = HotelRoomCalc(299)\n",
      "print r1.calTotal()\n",
      "\n",
      "r1.calTotal(2)"
     ],
     "language": "python",
     "metadata": {},
     "outputs": [
      {
       "output_type": "stream",
       "stream": "stdout",
       "text": [
        "354.31\n"
       ]
      },
      {
       "metadata": {},
       "output_type": "pyout",
       "prompt_number": 13,
       "text": [
        "708.62"
       ]
      }
     ],
     "prompt_number": 13
    },
    {
     "cell_type": "markdown",
     "metadata": {},
     "source": [
      "# Determining Instance Attributes vs Class"
     ]
    },
    {
     "cell_type": "code",
     "collapsed": false,
     "input": [
      "class C(object):\n",
      "    bar = 'sayed'\n",
      "    \n",
      "c = C()\n",
      "c.foo  = 'zain'\n",
      "c.bar = 'sayed'\n",
      "\n",
      "print dir(c)\n",
      "print '-'*120\n",
      "print c.__dict__\n",
      "\n",
      "#Special Instance Attributes.\n",
      "\n",
      "print c.__class__\n",
      "\n",
      "#Changing the instance attribute.\n",
      "print '-'*120\n",
      "c.bar = 'aladin'\n",
      "\n",
      "print \"Changed Instance: \", c.__dict__\n",
      "print \"Static class: \", C.__dict__\n",
      "print '-'*120\n",
      "C.bar = 'geany'\n",
      "\n",
      "print c.bar\n"
     ],
     "language": "python",
     "metadata": {},
     "outputs": [
      {
       "output_type": "stream",
       "stream": "stdout",
       "text": [
        "['__class__', '__delattr__', '__dict__', '__doc__', '__format__', '__getattribute__', '__hash__', '__init__', '__module__', '__new__', '__reduce__', '__reduce_ex__', '__repr__', '__setattr__', '__sizeof__', '__str__', '__subclasshook__', '__weakref__', 'bar', 'foo']\n",
        "------------------------------------------------------------------------------------------------------------------------\n",
        "{'foo': 'zain', 'bar': 'sayed'}\n",
        "<class '__main__.C'>\n",
        "------------------------------------------------------------------------------------------------------------------------\n",
        "Changed Instance:  {'foo': 'zain', 'bar': 'aladin'}\n",
        "Static class:  {'__dict__': <attribute '__dict__' of 'C' objects>, '__weakref__': <attribute '__weakref__' of 'C' objects>, '__module__': '__main__', 'bar': 'sayed', '__doc__': None}\n",
        "------------------------------------------------------------------------------------------------------------------------\n",
        "aladin\n"
       ]
      }
     ],
     "prompt_number": 35
    },
    {
     "cell_type": "markdown",
     "metadata": {},
     "source": [
      "Class Atrribute are like static members, they remain intact in class\n",
      "===============================================================\n",
      "\n",
      "Instance Attribute depends on objects they come and go.\n",
      "==========================================================="
     ]
    },
    {
     "cell_type": "code",
     "collapsed": false,
     "input": [
      "#STATIC AND CLASS METHOD DECLARATIONS\n",
      "\n",
      "class TestStaticMethod:\n",
      "    @staticmethod\n",
      "    def foo():\n",
      "        print 'calling static method foo()'\n",
      "        \n",
      "class TestClassMethod:\n",
      "    @classmethod\n",
      "    def foo(cls):\n",
      "        print 'calling class method foo()'\n",
      "        print 'foo() is part of class:', cls.__name__\n",
      "        \n",
      "tsm = TestStaticMethod()\n",
      "TestStaticMethod.foo()\n",
      "tsm.foo()\n",
      "\n",
      "print '-'*120\n",
      "\n",
      "tcm = TestClassMethod()\n",
      "TestClassMethod.foo()\n",
      "tcm.foo()\n",
      "\n"
     ],
     "language": "python",
     "metadata": {},
     "outputs": [
      {
       "output_type": "stream",
       "stream": "stdout",
       "text": [
        "calling static method foo()\n",
        "calling static method foo()\n",
        "------------------------------------------------------------------------------------------------------------------------\n",
        "calling class method foo()\n",
        "foo() is part of class: TestClassMethod\n",
        "calling class method foo()\n",
        "foo() is part of class: TestClassMethod\n"
       ]
      }
     ],
     "prompt_number": 76
    },
    {
     "cell_type": "markdown",
     "metadata": {},
     "source": [
      "## self: The variable self is used in class instance methods to reference the instance to which the method is bound.\n",
      "\n",
      "# difference between  @classmethod and @staticmethod\n",
      "\n",
      "### Invoking Bound Methods===========>   `with self in it as first argument`\n",
      "   + Methods, whether bound or not, are made up of the same code. The only difference is whether there is\n",
      "    an instance present so that the method can be invoked. In most cases, you the programmer will be\n",
      "    calling a bound method. Let us say that you have a class MyClass and an instance of it called mc , and you\n",
      "    want to call the MyClass.foo() method. Since you already have an instance, you can just call the method\n",
      "    with mc.foo() . Recall that self is required to be declared as the first argument in every method\n",
      "    declaration. Well, when you call a bound method, self never needs to be passed explicitly when you\n",
      "    invoke it with an instance. That is your bonus for being \"required\" to declare self as the first argument.\n",
      "    The only time when you have to pass it in is when you do not have an instance and need to call a\n",
      "    method unbound.\n",
      "\n",
      "### Invoking Unbound Methods\n",
      "   +  Calling an unbound method happens less frequently. The main use case for calling a method belonging\n",
      "    to a class that you do not have an instance for is the case where you are deriving a child class and override a parent method  where you need to call the parent's constructor you are overriding. Let us look\n",
      "    at an example back in the chapter introduction:\n",
      "        \n",
      "        `\n",
      "        class EmplAddrBookEntry(AddrBookEntry):\n",
      "            'Employee Address Book Entry class'\n",
      "            def __init__(self, nm, ph, em):\n",
      "                AddrBookEntry.__init__(self, nm, ph)\n",
      "                self.empid = id\n",
      "                self.email = em\n",
      "        `"
     ]
    },
    {
     "cell_type": "code",
     "collapsed": false,
     "input": [
      "class A(object):\n",
      "    def foo(self,x):\n",
      "        print \"executing foo(%s,%s)\"%(self,x)\n",
      "\n",
      "    @classmethod\n",
      "    def class_foo(cls,x):\n",
      "        print \"executing class_foo(%s,%s)\"%(cls,x)\n",
      "\n",
      "    @staticmethod\n",
      "    def static_foo(x):   #NOTICE SELF ARGUMENT IS NOT GIVEN HERE\n",
      "        print \"executing static_foo(%s)\"%x\n",
      "        \n",
      "class B(A):\n",
      "    @staticmethod\n",
      "    def static_foo(x):   #NOTICE SELF ARGUMENT IS NOT GIVEN HERE\n",
      "        print \"executing static_foo oF B(%s)\"%x\n",
      "        \n",
      "\n",
      "       \n",
      "\n",
      "a=A()\n",
      "'''\n",
      "With classmethods, the class of the object instance is implicitly passed as the first argument instead of self.\n",
      "'''\n",
      "A.class_foo(2)\n",
      "\n",
      "print \"\"\n",
      "'''\n",
      " Below is the usual way an object instance calls a method. The object instance, a, is implicitly passed as the first argument.\n",
      "'''\n",
      "a.foo(1)\n",
      "\n",
      "print \" \"\n",
      "'''\n",
      "You can also call class_foo using the class. In fact, if you define something to be a classmethod,\n",
      "it is probably because you intend to call it from the class rather than from a class instance.\n",
      "A.foo(1) would have raised a TypeError, but A.class_foo(1) works just fine:\n",
      "======================================\n",
      "'''\n",
      "a.class_foo(2)\n",
      "\n",
      "print \"\"\n",
      "'''\n",
      "With staticmethods, neither self (the object instance) nor cls (the class) is implicitly passed as the first argument.\n",
      "They behave like plain functions except that you can call them from an instance or the class:\n",
      "'''\n",
      "a.static_foo(3)\n",
      "\n",
      "print  ''\n",
      "'''\n",
      "foo is just a function, but when you call a.foo you don't just get the function,\n",
      "you get a \"partially applied\" version of the function with the object instance a bound as the first argument to the function.\n",
      "foo expects 2 arguments, while a.foo only expects 1 argument.\n",
      "a is bound to foo. That is what is meant by the term \"bound\" below:\n",
      "'''\n",
      "print a.foo\n",
      "'''\n",
      "With a.class_foo, a is not bound to class_foo, rather the class A is bound to class_foo.\n",
      "'''\n",
      "print a.class_foo\n",
      "'''\n",
      "Here, with a staticmethod, even though it is a method, a.static_foo just returns a good 'ole function with no arguments bound.\n",
      "static_foo expects 1 argument, and a.static_foo expects 1 argument too.\n",
      "'''\n",
      "print a.static_foo\n",
      "\n",
      "\n"
     ],
     "language": "python",
     "metadata": {},
     "outputs": [
      {
       "output_type": "stream",
       "stream": "stdout",
       "text": [
        "executing class_foo(<class '__main__.A'>,2)\n",
        "\n",
        "executing foo(<__main__.A object at 0x7fe49809ed50>,1)\n",
        " \n",
        "executing class_foo(<class '__main__.A'>,2)\n",
        "\n",
        "executing static_foo(3)\n",
        "\n",
        "<bound method A.foo of <__main__.A object at 0x7fe49809ed50>>\n",
        "<bound method type.class_foo of <class '__main__.A'>>\n",
        "<function static_foo at 0x7fe49809f668>\n"
       ]
      }
     ],
     "prompt_number": 113
    },
    {
     "cell_type": "markdown",
     "metadata": {},
     "source": [
      "Composition\n",
      "============\n",
      "   + Once a class is defined, the goal is to use it as a model programmatically, embedding this object\n",
      "throughout your code, intermixing use with other data types and the logical flow of execution. There are\n",
      "two ways of utilizing classes in your code. The first is composition. This is where different classes are\n",
      "mingled with and into other classes for added functionality and code reusability. You may create\n",
      "instances of your class inside a larger class, containing other attributes and methods enhancing the use\n",
      "of the original class object. The other way is with derivation, discussed in the next section.\n",
      "\n",
      "        `\n",
      "        class NewAddrBookEntry(object):  # class definition\n",
      "           'new address book entry class'\n",
      "            def __init__(self, nm, ph): # define constructor\n",
      "                self.name = Name(nm)    # create Name instance\n",
      "                self.phone = Phone(ph)  # create Phone instance\n",
      "                print 'Created instance for:', self.name\n",
      "        `\n",
      "\n",
      "## Name(lname, fname, mname)\n",
      "##phone (mobile, fax, telephone, home, office)\n",
      "\n",
      "#### Creating composite objects enables such additional functionality and makes sense because the classes have nothing in common. Each class manages its own namespace and behavior. When there are more intimate relationships between objects, the concept of derivation may make more sense in your application, especially if you require like objects, with slightly different functionality."
     ]
    },
    {
     "cell_type": "markdown",
     "metadata": {},
     "source": [
      "Subclassing and Derivation   : Inheritance\n",
      "===========================\n"
     ]
    },
    {
     "cell_type": "code",
     "collapsed": false,
     "input": [
      "class P(object):\n",
      "    'This is a P class'\n",
      "    def __init__(self):\n",
      "        'constructor of P'\n",
      "        print \"Created a instance of: \", self.__class__.__name__\n",
      "        \n",
      "class C(P):\n",
      "    pass\n",
      "\n",
      "p = P()\n",
      "c = C()\n",
      "\n",
      "print \"\"\n",
      "print p.__class__\n",
      "print P.__bases__\n",
      "print p.__doc__\n",
      "\n",
      "print \"\"\n",
      "print c.__class__\n",
      "print C.__bases__\n",
      "print c.__doc__\n",
      "\n",
      "\n"
     ],
     "language": "python",
     "metadata": {},
     "outputs": [
      {
       "output_type": "stream",
       "stream": "stdout",
       "text": [
        "Created a instance of:  P\n",
        "Created a instance of:  C\n",
        "\n",
        "<class '__main__.P'>\n",
        "(<type 'object'>,)\n",
        "This is a P class\n",
        "\n",
        "<class '__main__.C'>\n",
        "(<class '__main__.P'>,)\n",
        "None\n"
       ]
      }
     ],
     "prompt_number": 275
    },
    {
     "cell_type": "markdown",
     "metadata": {},
     "source": [
      "## __bases__ Attribute\n",
      "\n"
     ]
    },
    {
     "cell_type": "code",
     "collapsed": false,
     "input": [
      "class A(object): pass\n",
      "\n",
      "class B(A): pass\n",
      "\n",
      "class C(B): pass\n",
      " \n",
      "class D( C, B , A): pass             #NOTE A, B, C won' t work bottom-up work's\n",
      " \n",
      "\n",
      "print A.__bases__\n",
      "print B.__bases__\n",
      "print C.__bases__\n",
      "print D.__bases__\n",
      "\n"
     ],
     "language": "python",
     "metadata": {},
     "outputs": [
      {
       "output_type": "stream",
       "stream": "stdout",
       "text": [
        "(<type 'object'>,)\n",
        "(<class '__main__.A'>,)\n",
        "(<class '__main__.B'>,)\n",
        "(<class '__main__.C'>, <class '__main__.B'>, <class '__main__.A'>)\n"
       ]
      }
     ],
     "prompt_number": 140
    },
    {
     "cell_type": "markdown",
     "metadata": {},
     "source": [
      "Overriding Methods through Inheritance\n",
      "=========================================\n",
      "\n"
     ]
    },
    {
     "cell_type": "code",
     "collapsed": false,
     "input": [
      "class P(object):\n",
      "    def foo(self):\n",
      "        print 'Hi, I am p-foo()'\n",
      "\n",
      "class C(P):\n",
      "    def foo(self):\n",
      "        print 'Hi, I am f-foo()'\n",
      "        \n",
      "p = P()\n",
      "c = C()\n",
      "p.foo()\n",
      "c.foo()\n",
      "        "
     ],
     "language": "python",
     "metadata": {},
     "outputs": [
      {
       "output_type": "stream",
       "stream": "stdout",
       "text": [
        "Hi, I am p-foo()\n",
        "Hi, I am f-foo()\n"
       ]
      }
     ],
     "prompt_number": 141
    },
    {
     "cell_type": "code",
     "collapsed": false,
     "input": [
      "class P(object):\n",
      "    def foo(self):\n",
      "        print 'Hi, I am p-foo()'\n",
      "        \n",
      "class C(P):\n",
      "    def foo(self):\n",
      "        P.foo(self)\n",
      "        print \"HI, I am f-foo()\"\n",
      "        \n",
      "c = C()\n",
      "c.foo()\n"
     ],
     "language": "python",
     "metadata": {},
     "outputs": [
      {
       "output_type": "stream",
       "stream": "stdout",
       "text": [
        "Hi, I am p-foo()\n",
        "HI, I am f-foo()\n"
       ]
      }
     ],
     "prompt_number": 143
    },
    {
     "cell_type": "code",
     "collapsed": false,
     "input": [
      "class P(object):\n",
      "    def foo(self):\n",
      "        print 'Hi, I am p-foo()'\n",
      "        \n",
      "class C(P):\n",
      "    def foo(self):\n",
      "        super(C, self).foo()\n",
      "        print \"HI, I am f-foo()\"\n",
      "        \n",
      "c = C()\n",
      "c.foo()\n"
     ],
     "language": "python",
     "metadata": {},
     "outputs": [
      {
       "output_type": "stream",
       "stream": "stdout",
       "text": [
        "Hi, I am p-foo()\n",
        "HI, I am f-foo()\n"
       ]
      }
     ],
     "prompt_number": 144
    },
    {
     "cell_type": "markdown",
     "metadata": {},
     "source": [
      "# Overriding __init__ does not invoke base class __init__\n",
      "\n",
      "### In Java the parent class constructor is called first then the child class, but in Python this is not the case.\n",
      "\n",
      "    \n"
     ]
    },
    {
     "cell_type": "code",
     "collapsed": false,
     "input": [
      "class P(object):\n",
      "   def __init__(self):\n",
      "        print 'Constructor of P'\n",
      "        \n",
      "class C(P):\n",
      "    def __init__(self):\n",
      "        super(C, self).__init__()            #TO MAKE IT BEHAVE LIKE JAVA\n",
      "        print 'Constructor of C'\n",
      "        \n",
      "c = C()\n"
     ],
     "language": "python",
     "metadata": {},
     "outputs": [
      {
       "output_type": "stream",
       "stream": "stdout",
       "text": [
        "Constructor of P\n",
        "Constructor of C\n"
       ]
      }
     ],
     "prompt_number": 147
    },
    {
     "cell_type": "markdown",
     "metadata": {},
     "source": [
      "## Deriving Standard Types\n",
      "### Immutable Type Example:\n",
      "\n",
      "   + \n",
      "\n",
      "    Use `__new__` when you need to control the creation of a new instance. Use `__init__` when you need to control initialization of a new instance.\n",
      "\n",
      "    `__new__` is the first step of instance creation. It's called first, and is responsible for returning a new instance of your class. In contrast, `__init__` doesn't return anything; it's only responsible for initializing the instance after it's been created.\n",
      "\n",
      "    In general, you shouldn't need to override `__new__` unless you're **subclassing an immutable **type like str, int, unicode or tuple.\n",
      "\n",
      "\n"
     ]
    },
    {
     "cell_type": "code",
     "collapsed": false,
     "input": [
      "class RoundFloat(float):\n",
      "    def __new__(cls, val):\n",
      "        return super(RoundFloat, cls).__new__(cls, round(val, 2))\n",
      "    \n",
      "a = RoundFloat(1.5955)\n",
      "print type(a)\n",
      "print a\n"
     ],
     "language": "python",
     "metadata": {},
     "outputs": [
      {
       "output_type": "stream",
       "stream": "stdout",
       "text": [
        "<class '__main__.RoundFloat'>\n",
        "1.6\n"
       ]
      }
     ],
     "prompt_number": 158
    },
    {
     "cell_type": "markdown",
     "metadata": {},
     "source": [
      "## Mutable Type Example"
     ]
    },
    {
     "cell_type": "code",
     "collapsed": false,
     "input": [
      "class SortedKeyDict(dict):\n",
      "    def keys(self):\n",
      "        return sorted(super(SortedKeyDict, self).keys())\n",
      "        \n",
      "d = SortedKeyDict((('zheng-cai', 67), ('hui-jun', 68),('xin-yi', 2)))  \n",
      "d.keys()"
     ],
     "language": "python",
     "metadata": {},
     "outputs": [
      {
       "metadata": {},
       "output_type": "pyout",
       "prompt_number": 164,
       "text": [
        "['hui-jun', 'xin-yi', 'zheng-cai']"
       ]
      }
     ],
     "prompt_number": 164
    },
    {
     "cell_type": "heading",
     "level": 1,
     "metadata": {},
     "source": [
      "Multiple Inheritance : we know what it is lets see the LOOK-UP rules.<br />\n",
      "    <img src=\"multiInheri.png\" />\n",
      "\n",
      "<h4><p>it looks at the siblings first, giving it more of a breadth-first\n",
      "flavor. When looking for foo() , it checks GC, followed by C1 and C2, and then finds it in P1. If P1 did not\n",
      "    have it, it would have gone to P2</p></h4>\n",
      "<h4>\n",
      "The result for bar() is different, though. It searches GC and C1 , and finds it next in C2 and uses it there.\n",
      "It does not continue up to the grandparents P1 and P2 . In this case, the new-style resolution fit into the\n",
      "scheme better if you did prefer to call the \"closest\" bar() from GC\n",
      "</h4>"
     ]
    },
    {
     "cell_type": "code",
     "collapsed": false,
     "input": [
      "class P1(object):\n",
      "    def foo(self):\n",
      "        print 'called P1-foo()' # parent class 1\n",
      "        \n",
      "class P2(object):\n",
      "    def foo(self):\n",
      "        print 'called P2-foo()'\n",
      "    def bar(self):\n",
      "        print 'called P2-bar()' # parent class 2\n",
      "        \n",
      "class C1(P1, P2):\n",
      "    pass # child 1 der. from P1, P2\n",
      "\n",
      "class C2(P1, P2):\n",
      "    def bar(self):                                 # child 2 der. from P1, P2\n",
      "        print 'called C2-bar()'\n",
      "1, \n",
      "class GC(C1, C2):\n",
      "    pass                            # define grandchild class \n",
      "                                    # derived from C1 and C2    \n",
      "\n",
      "gc = GC()\n",
      "gc.foo()\n",
      "gc.bar()\n",
      "P2.bar(gc)"
     ],
     "language": "python",
     "metadata": {},
     "outputs": [
      {
       "output_type": "stream",
       "stream": "stdout",
       "text": [
        "called P1-foo()\n",
        "called C2-bar()\n",
        "called P2-bar()\n"
       ]
      }
     ],
     "prompt_number": 175
    },
    {
     "cell_type": "markdown",
     "metadata": {},
     "source": [
      "# Built-in Functions for Classes, Instances, and Other Objects"
     ]
    },
    {
     "cell_type": "code",
     "collapsed": false,
     "input": [
      "class C1(object): pass\n",
      "\n",
      "class C2(object): pass\n",
      "\n",
      "c1 = C1()\n",
      "c2 = C2()\n",
      "\n",
      "print isinstance(c1, C1)\n",
      "\n",
      "print isinstance(c2, C1)\n",
      "\n",
      "print isinstance(4, int)"
     ],
     "language": "python",
     "metadata": {},
     "outputs": [
      {
       "output_type": "stream",
       "stream": "stdout",
       "text": [
        "True\n",
        "False\n",
        "True\n"
       ]
      }
     ],
     "prompt_number": 180
    },
    {
     "cell_type": "markdown",
     "metadata": {},
     "source": [
      "# hasattr() , getattr() , setattr() , delattr()"
     ]
    },
    {
     "cell_type": "code",
     "collapsed": false,
     "input": [
      "class myClass(object):\n",
      "    def __init__(self):\n",
      "        self.foo = 100\n",
      "        \n",
      "obj = myClass()        \n",
      "print  hasattr(obj, 'foo')\n",
      "print getattr(obj, 'foo')\n",
      "setattr(obj, 'foo', 10)\n",
      "print getattr(obj, 'foo')\n",
      "delattr(obj, 'foo')\n",
      "#print getattr(obj, 10)"
     ],
     "language": "python",
     "metadata": {},
     "outputs": [
      {
       "output_type": "stream",
       "stream": "stdout",
       "text": [
        "True\n",
        "100\n",
        "10\n"
       ]
      }
     ],
     "prompt_number": 192
    },
    {
     "cell_type": "markdown",
     "metadata": {},
     "source": [
      "# Above example polished"
     ]
    },
    {
     "cell_type": "code",
     "collapsed": false,
     "input": [
      "class RoundFloatManual(object):\n",
      "    def __init__(self, val):\n",
      "        assert isinstance(val, float),  \"Value must be a float!\"\n",
      "        self.value = round(val, 2)\n",
      "\n",
      "    def __repr__(self):\n",
      "        return '%.2f' % self.value\n",
      "\n",
      "    \n",
      "\n",
      "rfm = RoundFloatManual(4.2)    \n",
      "rfm"
     ],
     "language": "python",
     "metadata": {},
     "outputs": [
      {
       "metadata": {},
       "output_type": "pyout",
       "prompt_number": 220,
       "text": [
        "4.20"
       ]
      }
     ],
     "prompt_number": 220
    },
    {
     "cell_type": "markdown",
     "metadata": {},
     "source": [
      "# Operator overloading example"
     ]
    },
    {
     "cell_type": "code",
     "collapsed": false,
     "input": [
      "class Time60(object):\n",
      "    'Time60 - track hours and minutes'\n",
      "\n",
      "    def __init__(self, hr, min):\n",
      "        'Time60 constructor - takes hours and minutes'\n",
      "        self.hr = hr\n",
      "        self.min = min\n",
      "\n",
      "    def __str__(self):\n",
      "        'Time60 - string representation'\n",
      "        return '%d:%d' % (self.hr, self.min)\n",
      "\n",
      "    __repr__ = __str__\n",
      "\n",
      "    def __add__(self, other):\n",
      "        'Time60 - overloading the addition operator'\n",
      "        return self.__class__(self.hr + other.hr, self.min + other.min)\n",
      "\n",
      "    \n",
      "mon = Time60(12, 00)\n",
      "tue = Time60(14, 30)\n",
      "mon + tue\n",
      "    "
     ],
     "language": "python",
     "metadata": {},
     "outputs": [
      {
       "metadata": {},
       "output_type": "pyout",
       "prompt_number": 242,
       "text": [
        "26:30"
       ]
      }
     ],
     "prompt_number": 242
    },
    {
     "cell_type": "markdown",
     "metadata": {},
     "source": [
      "# Privacy\n",
      "   +  Attributes in Python are, by default, \"public\" all the time, accessible by both code within the module and\n",
      "    modules that import the module containing the class.\n",
      "    \n",
      "    ##Double Underscore ( __ )\n",
      "       + purpose of this type of name-mangling is to protect `__ XXX` variables from conflicting with\n",
      "        derived class namespaces. If you have an `__ XXX `attribute in a class, it will not be overridden by a child\n",
      "        class's `___ XXX` attribute. (Recall that if a parent has just an XXX attribute and a child defines one, then\n",
      "        the child's XXX overrides the parents, and the reason why you have to do PARENT.XXX to call the base\n",
      "        class method of the same name.) By using `__ XXX` , the code for the child class can safely use `__ XXX`\n",
      "        without worrying that it will use or affect `__ XXX` in the parent.\n",
      "        \n",
      "   ##Single Underscore ( _ )\n",
      "         +  module-level privacy is provided by using a single underscore\n",
      "        ( _ ) character prefixing an attribute name. This prevents a module attribute from being imported with\n",
      "        \" from mymodule import * \". This is strictly scope-based, so it will work with functions too."
     ]
    },
    {
     "cell_type": "markdown",
     "metadata": {},
     "source": [
      "#Delegation == Wrapping\n",
      "\n",
      "\n",
      "<img src=\"delegate.png\" />\n",
      "\n",
      "\n",
      " + Delegation is a characteristic of wrapping that simplifies the process with regard to dictating functionality by taking advantage of pre-existing functionality to maximize code reuse.\n",
      "    \n",
      "    \n",
      "   +     Wrapping a type generally consists of some sort of customization to the existing type. As we mentioned\n",
      "    before, this tweaking comes in the form of new, modified, or removed functionality compared to the\n",
      "    original product. Everything else should remain the same, or keep its existing functionality and behavior.\n",
      "    Delegation is the process whereby all the updated functionality is handled as part of the new class, but\n",
      "    the existing functionality is delegated to the default attributes of the object.\n",
      "        \n",
      "      \n",
      "        \n",
      "   + The key to implementing delegation is to override the __getattr__() method with code containing a call\n",
      "    to the built-in getattr() function. Specifically, getattr() is invoked to obtain the default object attribute\n",
      "    (data attribute or method) and return it for access or invocation. The way the special method\n",
      "    __getattr__() works is that when an attribute is searched for, any local ones are found first (the\n",
      "    customized ones). If the search fails, then __getattr__() is invoked, which then calls getattr() to obtain\n",
      "    an object's default behavior.\n",
      "\n"
     ]
    },
    {
     "cell_type": "code",
     "collapsed": false,
     "input": [
      "class WrapMe(object):\n",
      "    def __init__(self, obj):\n",
      "        self.__data = obj\n",
      "        \n",
      "    def get(self):\n",
      "        return self.__data__\n",
      "    \n",
      "    def __repr__(self):\n",
      "        return `self.__data`\n",
      "    \n",
      "    def __str__(self):\n",
      "        return str(self.__data)\n",
      "    \n",
      "    def __getattr__(self, attr):\n",
      "        return getattr(self.__data, attr)\n",
      "    \n",
      "'''\n",
      "c = WrapMe(3.2+2.5j)\n",
      "print c\n",
      "print c.real\n",
      "print c.imag\n",
      "'''\n",
      "\n",
      "c = WrapMe([123, 10, 4.2, 123])\n",
      "print c\n",
      "print c.index(123)\n",
      "print c.count(123)\n",
      "print c.pop()"
     ],
     "language": "python",
     "metadata": {},
     "outputs": [
      {
       "output_type": "stream",
       "stream": "stdout",
       "text": [
        "[123, 10, 4.2, 123]\n",
        "0\n",
        "2\n",
        "123\n"
       ]
      }
     ],
     "prompt_number": 276
    },
    {
     "cell_type": "markdown",
     "metadata": {},
     "source": [
      "# Advanced Features\n",
      "\n",
      "  ### isinstance()\n",
      "  ### __slots__\n",
      "  ### __getattribute__()\n",
      "  ### Descriptors\n",
      "  \n",
      "  "
     ]
    },
    {
     "cell_type": "code",
     "collapsed": false,
     "input": [
      "class SlottedClass(object):\n",
      "    __slots__ = ('foo', 'bar')\n",
      "    \n",
      "c = SlottedClass()\n",
      "c.foo = 10\n",
      "print c.foo\n",
      "    \n",
      "#c.car = 10    "
     ],
     "language": "python",
     "metadata": {},
     "outputs": [
      {
       "output_type": "stream",
       "stream": "stdout",
       "text": [
        "10\n"
       ]
      }
     ],
     "prompt_number": 282
    },
    {
     "cell_type": "code",
     "collapsed": false,
     "input": [
      "#!/usr/bin/env python\n",
      "\n",
      "import os\n",
      "import pickle\n",
      "\n",
      "class FileDescr(object):\n",
      "    saved = []\n",
      "\n",
      "    def __init__(self, name):\n",
      "        self.name = name\n",
      "\n",
      "    def __get__(self, obj, typ=None):\n",
      "        if self.name not in FileDescr.saved:\n",
      "            raise AttributeError, \\\n",
      "                \"%r used before assignment\" % self.name\n",
      "\n",
      "        try:\n",
      "            f = open(self.name, 'r')\n",
      "            val = pickle.load(f)\n",
      "            f.close()\n",
      "            return val\n",
      "        except (pickle.UnpicklingError, IOError,\n",
      "                EOFError, AttributeError,\n",
      "                ImportError, IndexError), e:\n",
      "            raise AttributeError, \\\n",
      "                \"could not read %r: %s\" % self.name\n",
      "\n",
      "    def __set__(self, obj, val):\n",
      "        try:\n",
      "            f = open(self.name, 'w')\n",
      "            pickle.dump(val, f)\n",
      "            FileDescr.saved.append(self.name)\n",
      "        except (IOError, TypeError, pickle.PicklingError), e:\n",
      "            raise AttributeError, \\\n",
      "                \"could not pickle %r\" % self.name\n",
      "        finally:\n",
      "            f.close()\n",
      "\n",
      "    def __delete__(self, obj):\n",
      "        try:\n",
      "            os.unlink(self.name)\n",
      "            FileDescr.saved.remove(self.name)\n",
      "        except (OSError, ValueError), e:\n",
      "            pass\n",
      "        \n",
      "        \n",
      "      \n",
      "'''\n",
      "class MyFileVarClass(object):\n",
      "    foo = FileDescr('foo')\n",
      "    bar = FileDescr('bar')        \n",
      "    \n",
      "mfc = MyFileVarClass()\n",
      "mfc.foo = 10\n",
      "mfc.bar = 10\n",
      "\n",
      "print mfc.foo\n",
      "print mfc.bar\n",
      "\n",
      "raw_input()\n",
      "\n",
      "del mfc.foo, mfc.bar\n",
      "'''\n",
      "\n",
      "\n",
      "foo = FileDescr('foo')\n",
      "print type(foo)\n",
      "foo = 10\n",
      "print foo\n"
     ],
     "language": "python",
     "metadata": {},
     "outputs": [
      {
       "output_type": "stream",
       "stream": "stdout",
       "text": [
        "<class '__main__.FileDescr'>\n",
        "10\n"
       ]
      }
     ],
     "prompt_number": 298
    }
   ],
   "metadata": {}
  }
 ]
}