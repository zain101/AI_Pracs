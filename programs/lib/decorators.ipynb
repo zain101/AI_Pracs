{
 "metadata": {
  "name": "",
  "signature": "sha256:4b3cec5d24eb395c74e6105e5d4246836844b97a4f4e007f37a17f3fe489c13a"
 },
 "nbformat": 3,
 "nbformat_minor": 0,
 "worksheets": [
  {
   "cells": [
    {
     "cell_type": "code",
     "collapsed": false,
     "input": [
      " '''python support function closure property which means: \n",
      "    that inner function defined  in a non-global scope(local scope),\n",
      "    remember what \n",
      "    their enclosing namespace was looked  like at defination time.\n",
      "'''"
     ],
     "language": "python",
     "metadata": {},
     "outputs": []
    },
    {
     "cell_type": "code",
     "collapsed": false,
     "input": [],
     "language": "python",
     "metadata": {},
     "outputs": [],
     "prompt_number": 7
    },
    {
     "cell_type": "code",
     "collapsed": false,
     "input": [
      "def outer(x):\n",
      "    print \"inside outer\", x\n",
      "    def inner():\n",
      "        print \"inside inner\", x\n",
      "    return inner\n",
      "\n",
      "foo= outer('z')\n",
      "foo()\n",
      "outer(1)\n",
      "foo()\n",
      "#foo.func_closure.index()\n",
      "#help(foo.func_closure.count)\n"
     ],
     "language": "python",
     "metadata": {},
     "outputs": [
      {
       "output_type": "stream",
       "stream": "stdout",
       "text": [
        "inside outer z\n",
        "inside inner z\n",
        "inside outer 1\n",
        "inside inner z\n"
       ]
      }
     ],
     "prompt_number": 19
    },
    {
     "cell_type": "code",
     "collapsed": false,
     "input": [
      "#Decorator are just callable that takes functions as argument and return replacement function.\n",
      "\n",
      "#example \n",
      "\n",
      "n= 5\n",
      "def outer(some_func):\n",
      "    def inner():\n",
      "        print \"Inside inner\"\n",
      "        ret= some_func()\n",
      "        return ret +1\n",
      "    return inner\n",
      "\n",
      "def foo():\n",
      "    global n\n",
      "    return n\n",
      "\n",
      "def bar():\n",
      "    print 'I am bar'\n",
      "    return 0\n",
      "\n",
      "deco= outer(foo)\n",
      "print deco()\n",
      "n= 10\n",
      "outer(bar)\n",
      "print deco()"
     ],
     "language": "python",
     "metadata": {},
     "outputs": [
      {
       "output_type": "stream",
       "stream": "stdout",
       "text": [
        "Inside inner\n",
        "6\n",
        "Inside inner\n",
        "11\n"
       ]
      }
     ],
     "prompt_number": 4
    },
    {
     "cell_type": "code",
     "collapsed": false,
     "input": [
      "'''\n",
      "Whenever a object is initalize first its constructor is called, if class is called for \n",
      "modification of objects then constructor bounces to __repr__  for any processing stuff...\n",
      "'''\n",
      "class Coordinate(object):\n",
      "    def __init__(self, x, y):\n",
      "        self.x= x\n",
      "        self.y= y\n",
      "        self.s= \"zain\"\n",
      "    \n",
      "    def __repr__(self):\n",
      "            return \"Coordinate: \"+ str(self.__dict__)\n",
      "            \n",
      "def add(a,b):\n",
      "    return Coordinate(a.x+b.x,a.y + b.y)\n",
      "\n",
      "def sub(a, b):\n",
      "    return Coordinate(a.x-b.x, a.y-b.y)\n",
      "\n",
      "def disp(c):\n",
      "    return Coordinate(c.x+c.y,0)\n",
      "\n",
      "\n",
      "one= Coordinate(100, 200)\n",
      "two= Coordinate(300, 200)\n",
      "three= Coordinate(100, 500)\n",
      "\n",
      "print add(one, two)        \n",
      "print sub(one, two)        \n",
      "print disp(three)\n",
      "print one.x, one.y\n",
      "\n",
      "def wrapper(func):\n",
      "    def checker(a,b):\n",
      "        if   a.x < 0 or a.y< 0:\n",
      "            a= Coordinate(a.x if (a.x >0) else 0,  a.y  if(a.y> 0) else 0)\n",
      "        if b.x< 0 or b.y< 0:\n",
      "            b= Coordinate(b.x if (b.x>0) else 0,  b.y if (b.y > 0) else 0)\n",
      "        ret= func(a,b)\n",
      "        print ret\n",
      "        if ret.x< 0 or ret.y< 0:\n",
      "            ret= Coordinate(ret.x if(ret.x>0) else 0, ret.y if(ret.y>0) else 0)\n",
      "        return ret\n",
      "    return checker\n",
      "\n",
      "add= wrapper(add) #address of add, sub is preserved in the global namespace of checker...\n",
      "sub= wrapper(sub)\n",
      "'''\n",
      "In the code samples above we decorated our function by replacing the\n",
      "variable containing the function with a wrapped version.\n",
      "'''\n",
      "print add(one, two)\n",
      "print sub(one, two)\n",
      "\n",
      "\n",
      "'''\n",
      "This pattern can be used at any time, to wrap any function. But if we are defining a function we can\n",
      "\"decorate\" it with the @ symbol like\n",
      "'''\n",
      "\n",
      "\n",
      "'''\n",
      "So, a customize version of checkker is created for every function which is  decorated.\n",
      "'''\n",
      "\n",
      "print \"whoooo!\"\n",
      "@wrapper             #add_D is the default argument to this wrapper function\n",
      "def add_D(a, b):    #Decorated this guy...\n",
      "    return Coordinate(a.x, b.y)\n",
      "\n",
      "print add_D(one, two)"
     ],
     "language": "python",
     "metadata": {},
     "outputs": [
      {
       "output_type": "stream",
       "stream": "stdout",
       "text": [
        "Coordinate: {'y': 400, 'x': 400, 's': 'zain'}\n",
        "Coordinate: {'y': 0, 'x': -200, 's': 'zain'}\n",
        "Coordinate: {'y': 0, 'x': 600, 's': 'zain'}\n",
        "100 200\n",
        "Coordinate: {'y': 400, 'x': 400, 's': 'zain'}\n",
        "Coordinate: {'y': 400, 'x': 400, 's': 'zain'}\n",
        "Coordinate: {'y': 0, 'x': -200, 's': 'zain'}\n",
        "Coordinate: {'y': 0, 'x': 0, 's': 'zain'}\n",
        "whoooo!\n",
        "Coordinate: {'y': 200, 'x': 100, 's': 'zain'}\n",
        "Coordinate: {'y': 200, 'x': 100, 's': 'zain'}\n"
       ]
      }
     ],
     "prompt_number": 1
    },
    {
     "cell_type": "code",
     "collapsed": false,
     "input": [
      "'''\n",
      "More generic decorators\n",
      "Given our new power we can write a decorator that \"logs\" the arguements to functions. We\u2019ll just print to\n",
      "stdout for simplicity sake:\n",
      "'''\n",
      "\n",
      "def logger(func):\n",
      "    print \"whoooooooo\"\n",
      "    def inner(*args, **kwargs):\n",
      "        print \"Function  %s got called with Arguments as %s and %s \"% (func.__name__, args, kwargs)\n",
      "        return func(*args, **kwargs)\n",
      "    return inner\n",
      "\n",
      "\n",
      "@logger\n",
      "def foo(x, y=1):\n",
      "    return x+y\n",
      "\n",
      "@logger\n",
      "def bar():\n",
      "    return 2\n",
      "\n",
      "print \"lallla\"\n",
      "print foo(1)\n",
      "print foo(1,y=2)    \n",
      "print bar()\n"
     ],
     "language": "python",
     "metadata": {},
     "outputs": [
      {
       "output_type": "stream",
       "stream": "stdout",
       "text": [
        "whoooooooo\n",
        "whoooooooo\n",
        "lallla\n",
        "Function  foo got called with Arguments as (1,) and {} \n",
        "2\n",
        "Function  foo got called with Arguments as (1,) and {'y': 2} \n",
        "3\n",
        "Function  bar got called with Arguments as () and {} \n",
        "2\n"
       ]
      }
     ],
     "prompt_number": 20
    },
    {
     "cell_type": "code",
     "collapsed": false,
     "input": [
      "#Decorators example with Classes\n",
      "\n",
      "class myDecorator(object):\n",
      "    def __init__(self, f):\n",
      "        print \"Inside mydecorator.__init()__\"\n",
      "        f() #prove that function defination has completed\n",
      "        \n",
      "    def __call__(self):\n",
      "        print \"___________________Inside decorated __call__()\"\n",
      "        self.f()\n",
      "        \n",
      "@myDecorator\n",
      "def aFunction():\n",
      "    print \"Inside aFunction\"\n",
      "\n",
      "print \"Finish decorating with afunction\"\n",
      "\n",
      "aFunction()\n"
     ],
     "language": "python",
     "metadata": {},
     "outputs": [
      {
       "output_type": "stream",
       "stream": "stdout",
       "text": [
        "Inside mydecorator.__init()__\n",
        "Inside aFunction\n",
        "Finish decorating with afunction\n",
        "___________________Inside decorated __call__()\n"
       ]
      },
      {
       "ename": "AttributeError",
       "evalue": "'myDecorator' object has no attribute 'f'",
       "output_type": "pyerr",
       "traceback": [
        "\u001b[1;31m---------------------------------------------------------------------------\u001b[0m\n\u001b[1;31mAttributeError\u001b[0m                            Traceback (most recent call last)",
        "\u001b[1;32m<ipython-input-23-1c0c5414c42f>\u001b[0m in \u001b[0;36m<module>\u001b[1;34m()\u001b[0m\n\u001b[0;32m     16\u001b[0m \u001b[1;32mprint\u001b[0m \u001b[1;34m\"Finish decorating with afunction\"\u001b[0m\u001b[1;33m\u001b[0m\u001b[0m\n\u001b[0;32m     17\u001b[0m \u001b[1;33m\u001b[0m\u001b[0m\n\u001b[1;32m---> 18\u001b[1;33m \u001b[0maFunction\u001b[0m\u001b[1;33m(\u001b[0m\u001b[1;33m)\u001b[0m\u001b[1;33m\u001b[0m\u001b[0m\n\u001b[0m",
        "\u001b[1;32m<ipython-input-23-1c0c5414c42f>\u001b[0m in \u001b[0;36m__call__\u001b[1;34m(self)\u001b[0m\n\u001b[0;32m      8\u001b[0m     \u001b[1;32mdef\u001b[0m \u001b[0m__call__\u001b[0m\u001b[1;33m(\u001b[0m\u001b[0mself\u001b[0m\u001b[1;33m)\u001b[0m\u001b[1;33m:\u001b[0m\u001b[1;33m\u001b[0m\u001b[0m\n\u001b[0;32m      9\u001b[0m         \u001b[1;32mprint\u001b[0m \u001b[1;34m\"___________________Inside decorated __call__()\"\u001b[0m\u001b[1;33m\u001b[0m\u001b[0m\n\u001b[1;32m---> 10\u001b[1;33m         \u001b[0mself\u001b[0m\u001b[1;33m.\u001b[0m\u001b[0mf\u001b[0m\u001b[1;33m(\u001b[0m\u001b[1;33m)\u001b[0m\u001b[1;33m\u001b[0m\u001b[0m\n\u001b[0m\u001b[0;32m     11\u001b[0m \u001b[1;33m\u001b[0m\u001b[0m\n\u001b[0;32m     12\u001b[0m \u001b[1;33m@\u001b[0m\u001b[0mmyDecorator\u001b[0m\u001b[1;33m\u001b[0m\u001b[0m\n",
        "\u001b[1;31mAttributeError\u001b[0m: 'myDecorator' object has no attribute 'f'"
       ]
      }
     ],
     "prompt_number": 23
    },
    {
     "cell_type": "code",
     "collapsed": false,
     "input": [
      "#another example of class decorators\n",
      "\n",
      "class EntryExit(object):\n",
      "    def __init__(self, f):\n",
      "        self.f= f\n",
      "    def __call__(self):\n",
      "        print \"Entering inside a finction\", self.f.__name__\n",
      "        self.f()\n",
      "        print \"Exiting from a function\", self.f.__name__\n",
      "        \n",
      "@EntryExit\n",
      "def foo():\n",
      "    print \"inside foo\"\n",
      "    \n",
      "@EntryExit\n",
      "def bar():\n",
      "    print \"Inside bar\"\n",
      "print \"wooo\"\n",
      "foo()\n",
      "bar()"
     ],
     "language": "python",
     "metadata": {},
     "outputs": [
      {
       "output_type": "stream",
       "stream": "stdout",
       "text": [
        "wooo\n",
        "Entering inside a finction foo\n",
        "inside foo\n",
        "Exiting from a function foo\n",
        "Entering inside a finction bar\n",
        "Inside bar\n",
        "Exiting from a function bar\n"
       ]
      }
     ],
     "prompt_number": 6
    },
    {
     "cell_type": "code",
     "collapsed": false,
     "input": [
      "'''\n",
      "__repr__ understanding \n",
      "\n",
      "'''\n",
      "\n",
      "class Foo():\n",
      "    def __init__(self, x, y):\n",
      "        print 'Inside constructor to initialize x and y'\n",
      "        self.x = x \n",
      "        self.y = y\n",
      "    \n",
      "    def __repr__(self):\n",
      "        print 'hello, inside repr'\n",
      "        return\"Dict representation\"+ str(self.__dict__)\n",
      "        \n",
      "print Foo(10,20)\n",
      "a = Foo(30,40)\n",
      "print a\n",
      "print a.x\n",
      "print a.x+a.y"
     ],
     "language": "python",
     "metadata": {},
     "outputs": [
      {
       "output_type": "stream",
       "stream": "stdout",
       "text": [
        "Inside constructor to initialize x and y\n",
        "hello, inside repr\n",
        "Dict representation{'y': 20, 'x': 10}\n",
        "Inside constructor to initialize x and y\n",
        "hello, inside repr\n",
        "Dict representation{'y': 40, 'x': 30}\n",
        "30\n",
        "70\n"
       ]
      }
     ],
     "prompt_number": 34
    },
    {
     "cell_type": "code",
     "collapsed": false,
     "input": [
      "from functools import wraps\n",
      "\n",
      "def my_decorator(f):\n",
      "    @wraps(f)\n",
      "    def inner(*args, **kwargs):\n",
      "        \"\"\"DOCS FOR INNER\"\"\"\n",
      "        print 'Inside inner function calling %s with arguments as %s and %s '% (f.__name__, args, kwargs)\n",
      "        return f(*args, **kwargs)\n",
      "    return inner    \n",
      "\n",
      "@my_decorator\n",
      "def example():\n",
      "    \"\"\"Docstring\"\"\"\n",
      "    print 'Inside example funtion'\n",
      "    \n",
      "example()\n",
      "print example.__name__\n",
      "print example.__doc__    "
     ],
     "language": "python",
     "metadata": {},
     "outputs": [
      {
       "output_type": "stream",
       "stream": "stdout",
       "text": [
        "Inside inner function calling example with arguments as () and {} \n",
        "Inside example funtion\n",
        "example\n",
        "Docstring\n"
       ]
      }
     ],
     "prompt_number": 69
    }
   ],
   "metadata": {}
  }
 ]
}