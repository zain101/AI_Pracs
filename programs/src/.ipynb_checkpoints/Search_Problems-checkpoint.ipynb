{
 "metadata": {
  "name": "",
  "signature": "sha256:5207dc206708aba4f1a37fc8585ac670e832349b5a380ef5ca65d0d6b34c1cb7"
 },
 "nbformat": 3,
 "nbformat_minor": 0,
 "worksheets": [
  {
   "cells": [
    {
     "cell_type": "code",
     "collapsed": false,
     "input": [
      "import random\n",
      "import copy\n",
      "\n",
      "def get_heuristics_for_8_queen(board):\n",
      "    h = 0\n",
      "    #Check for every row\n",
      "    for i in range(len(board)):\n",
      "        #Check for every column\n",
      "        for j in range(i + 1,len(board)):\n",
      "            #print i,j\n",
      "            #Queens are in the same row\n",
      "            if board[i] == board[j]:\n",
      "                h += 1\n",
      "                #print \"got in row\"\n",
      "            #Get the difference between the current column and the check column\n",
      "            offset = j - i\n",
      "            #print \"offset\", offset\n",
      "            '''\n",
      "            To be a diagonal, the check column value has to be equal\n",
      "            to the current column value +/- the offset\n",
      "            Adding or subracting helps us to normalize the \"CHECK CLOUMN QUEEN\"\n",
      "            if narmalization results in the same column as current queen\n",
      "            then\n",
      "                queens are diagonal to eachother\n",
      "            '+' ---> for below normalization\n",
      "            '-' ---> for above normalization\n",
      "            '''\n",
      "            if board[i] == board[j] - offset or board[i] == board[j] + offset:\n",
      "                h += 1\n",
      "    return h\n",
      "\n",
      "def make_move_steepest_hill(board):\n",
      "  moves = {}\n",
      "  for col in range(len(board)):\n",
      "    best_move = board[col]\n",
      "     \n",
      "    for row in range(len(board)):\n",
      "      if board[col] == row:\n",
      "        #We don't need to evaluate the current\n",
      "        #position, we already know the h-value\n",
      "        continue\n",
      "       \n",
      "      board_copy = list(board)\n",
      "      #Move the queen to the new row\n",
      "      board_copy[col] = row\n",
      "      moves[(col,row)] = get_heuristics_for_8_queen(board_copy)\n",
      "  print  \"len of states \", len(moves) \n",
      "  best_moves = []\n",
      "  h_to_beat = get_heuristics_for_8_queen(board)\n",
      "  for k,v in moves.iteritems():\n",
      "    if v < h_to_beat:\n",
      "      h_to_beat = v\n",
      "       \n",
      "  for k,v in moves.iteritems():\n",
      "    if v == h_to_beat:\n",
      "      best_moves.append(k)\n",
      "  print best_moves\n",
      "        \n",
      "  #Pick a random best move\n",
      "  if len(best_moves) > 0:\n",
      "    pick = random.randint(0,len(best_moves) - 1)\n",
      "    col = best_moves[pick][0]\n",
      "    row = best_moves[pick][1]\n",
      "    board[col] = row\n",
      "   \n",
      "  return board\n",
      "a = [1, 2, 1, 2]\n",
      "b = []\n",
      "while True:\n",
      "   a = make_move_steepest_hill(a)\n",
      "    \n",
      "   raw_input() \n",
      "   if a == b:\n",
      "        break\n",
      "   print a,b \n",
      "   b = copy.deepcopy(a)      "
     ],
     "language": "python",
     "metadata": {},
     "outputs": [
      {
       "output_type": "stream",
       "stream": "stdout",
       "text": [
        "len of states  12\n"
       ]
      },
      {
       "name": "stdout",
       "output_type": "stream",
       "stream": "stdout",
       "text": [
        "\n"
       ]
      },
      {
       "output_type": "stream",
       "stream": "stdout",
       "text": [
        "[1, 2, 0, 2] []\n",
        "len of states  12\n"
       ]
      },
      {
       "name": "stdout",
       "output_type": "stream",
       "stream": "stdout",
       "text": [
        "\n"
       ]
      },
      {
       "output_type": "stream",
       "stream": "stdout",
       "text": [
        "[1, 3, 0, 2] [1, 2, 0, 2]\n",
        "len of states  12\n"
       ]
      },
      {
       "name": "stdout",
       "output_type": "stream",
       "stream": "stdout",
       "text": [
        "\n"
       ]
      }
     ],
     "prompt_number": 46
    },
    {
     "cell_type": "code",
     "collapsed": false,
     "input": [
      "\n",
      "def get_heuristics_for_8_queen(board):\n",
      "  h = 0\n",
      "  for i in range(len(board)):\n",
      "    #Check every column we haven't already checked\n",
      "    for j in range(i + 1,len(board)):\n",
      "      #Queens are in the same row\n",
      "      if board[i] == board[j]:\n",
      "        h += 1\n",
      "      #Get the difference between the current column\n",
      "      #and the check column\n",
      "      offset = j - i\n",
      "      #To be a diagonal, the check column value has to be \n",
      "      #equal to the current column value +/- the offset\n",
      "      if board[i] == board[j] - offset or board[i] == board[j] + offset:\n",
      "        h += 1\n",
      "     \n",
      "  return h\n",
      "    \n",
      "get_heuristics_for_8_queen([7, 1, 4, 2, 0, 6, 3, 5])    "
     ],
     "language": "python",
     "metadata": {},
     "outputs": [
      {
       "metadata": {},
       "output_type": "pyout",
       "prompt_number": 40,
       "text": [
        "0"
       ]
      }
     ],
     "prompt_number": 40
    },
    {
     "cell_type": "code",
     "collapsed": false,
     "input": [],
     "language": "python",
     "metadata": {},
     "outputs": [],
     "prompt_number": 38
    },
    {
     "cell_type": "code",
     "collapsed": false,
     "input": [],
     "language": "python",
     "metadata": {},
     "outputs": [],
     "prompt_number": 38
    }
   ],
   "metadata": {}
  }
 ]
}