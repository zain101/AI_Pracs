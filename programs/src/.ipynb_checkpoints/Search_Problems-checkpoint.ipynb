{
 "metadata": {
  "name": "",
  "signature": "sha256:5c9cf5aad259c83fcc64a7b099df83aa7dda84e5f582a790f327c724d10d50ab"
 },
 "nbformat": 3,
 "nbformat_minor": 0,
 "worksheets": [
  {
   "cells": [
    {
     "cell_type": "code",
     "collapsed": false,
     "input": [
      "import random\n",
      "import copy\n",
      "\n",
      "def get_heuristics_for_8_queen(board):\n",
      "    h = 0\n",
      "    #Check for every row\n",
      "    for i in range(len(board)):\n",
      "        #Check for every column\n",
      "        for j in range(i + 1,len(board)):\n",
      "            #print i,j\n",
      "            #Queens are in the same row\n",
      "            if board[i] == board[j]:\n",
      "                h += 1\n",
      "                #print \"got in row\"\n",
      "            #Get the difference between the current column and the check column\n",
      "            offset = j - i\n",
      "            #print \"offset\", offset\n",
      "            '''\n",
      "            To be a diagonal, the check column value has to be equal\n",
      "            to the current column value +/- the offset\n",
      "            Adding or subracting helps us to normalize the \"CHECK CLOUMN QUEEN\"\n",
      "            if narmalization results in the same column as current queen\n",
      "            then\n",
      "                queens are diagonal to eachother\n",
      "            '+' ---> for below normalization\n",
      "            '-' ---> for above normalization\n",
      "            '''\n",
      "            if board[i] == board[j] - offset or board[i] == board[j] + offset:\n",
      "                h += 1\n",
      "    return h\n",
      "\n",
      "def make_move_steepest_hill(board):\n",
      "  moves = {}\n",
      "  for col in range(len(board)):\n",
      "    best_move = board[col]\n",
      "     \n",
      "    for row in range(len(board)):\n",
      "      if board[col] == row:\n",
      "        #We don't need to evaluate the current\n",
      "        #position, we already know the h-value\n",
      "        continue\n",
      "       \n",
      "      board_copy = list(board)\n",
      "      #Move the queen to the new row\n",
      "      board_copy[col] = row\n",
      "      moves[(col,row)] = get_heuristics_for_8_queen(board_copy)\n",
      "  print  \"len of states \", len(moves) \n",
      "  best_moves = []\n",
      "  h_to_beat = get_heuristics_for_8_queen(board)\n",
      "  for k,v in moves.iteritems():\n",
      "    if v < h_to_beat:\n",
      "      h_to_beat = v\n",
      "       \n",
      "  for k,v in moves.iteritems():\n",
      "    if v == h_to_beat:\n",
      "      best_moves.append(k)\n",
      "  print best_moves\n",
      "        \n",
      "  #Pick a random best move\n",
      "  if len(best_moves) > 0:\n",
      "    pick = random.randint(0,len(best_moves) - 1)\n",
      "    col = best_moves[pick][0]\n",
      "    row = best_moves[pick][1]\n",
      "    board[col] = row\n",
      "   \n",
      "  return board\n",
      "\n",
      "a = [7, 5, 3, 1, 6, 4, 2, 0]\n",
      "b = []\n",
      "while True:\n",
      "   a = make_move_steepest_hill(a)\n",
      "   raw_input() \n",
      "   if a == b:\n",
      "        break\n",
      "   print a,b \n",
      "   b = copy.deepcopy(a)      "
     ],
     "language": "python",
     "metadata": {},
     "outputs": [
      {
       "output_type": "stream",
       "stream": "stdout",
       "text": [
        "len of states  56\n",
        "[(7, 7), (0, 3), (0, 0), (7, 4)]\n"
       ]
      },
      {
       "name": "stdout",
       "output_type": "stream",
       "stream": "stdout",
       "text": [
        "\n"
       ]
      },
      {
       "output_type": "stream",
       "stream": "stdout",
       "text": [
        "[0, 5, 3, 1, 6, 4, 2, 0] []\n",
        "len of states  56\n",
        "[(4, 7), (7, 7), (0, 7), (0, 3), (7, 4)]\n"
       ]
      },
      {
       "name": "stdout",
       "output_type": "stream",
       "stream": "stdout",
       "text": [
        "\n"
       ]
      },
      {
       "output_type": "stream",
       "stream": "stdout",
       "text": [
        "[7, 5, 3, 1, 6, 4, 2, 0] [0, 5, 3, 1, 6, 4, 2, 0]\n",
        "len of states  56\n",
        "[(7, 7), (0, 3), (0, 0), (7, 4)]\n"
       ]
      },
      {
       "name": "stdout",
       "output_type": "stream",
       "stream": "stdout",
       "text": [
        "\n"
       ]
      },
      {
       "output_type": "stream",
       "stream": "stdout",
       "text": [
        "[7, 5, 3, 1, 6, 4, 2, 7] [7, 5, 3, 1, 6, 4, 2, 0]\n",
        "len of states  56\n",
        "[(3, 0), (0, 3), (0, 0), (7, 0), (7, 4)]\n"
       ]
      },
      {
       "name": "stdout",
       "output_type": "stream",
       "stream": "stdout",
       "text": [
        "\n"
       ]
      },
      {
       "output_type": "stream",
       "stream": "stdout",
       "text": [
        "[7, 5, 3, 1, 6, 4, 2, 4] [7, 5, 3, 1, 6, 4, 2, 7]\n",
        "len of states  56\n",
        "[(7, 7), (0, 0), (5, 0), (7, 0)]\n"
       ]
      },
      {
       "name": "stdout",
       "output_type": "stream",
       "stream": "stdout",
       "text": [
        "\n"
       ]
      },
      {
       "output_type": "stream",
       "stream": "stdout",
       "text": [
        "[7, 5, 3, 1, 6, 4, 2, 7] [7, 5, 3, 1, 6, 4, 2, 4]\n",
        "len of states  56\n",
        "[(3, 0), (0, 3), (0, 0), (7, 0), (7, 4)]\n"
       ]
      },
      {
       "name": "stdout",
       "output_type": "stream",
       "stream": "stdout",
       "text": [
        "\n"
       ]
      },
      {
       "output_type": "stream",
       "stream": "stdout",
       "text": [
        "[7, 5, 3, 1, 6, 4, 2, 4] [7, 5, 3, 1, 6, 4, 2, 7]\n",
        "len of states  56\n",
        "[(7, 7), (0, 0), (5, 0), (7, 0)]\n"
       ]
      },
      {
       "name": "stdout",
       "output_type": "stream",
       "stream": "stdout",
       "text": [
        "\n"
       ]
      },
      {
       "output_type": "stream",
       "stream": "stdout",
       "text": [
        "[7, 5, 3, 1, 6, 4, 2, 0] [7, 5, 3, 1, 6, 4, 2, 4]\n",
        "len of states  56\n",
        "[(7, 7), (0, 3), (0, 0), (7, 4)]\n"
       ]
      },
      {
       "name": "stdout",
       "output_type": "stream",
       "stream": "stdout",
       "text": [
        "\n"
       ]
      },
      {
       "output_type": "stream",
       "stream": "stdout",
       "text": [
        "[7, 5, 3, 1, 6, 4, 2, 4] [7, 5, 3, 1, 6, 4, 2, 0]\n",
        "len of states  56\n",
        "[(7, 7), (0, 0), (5, 0), (7, 0)]\n"
       ]
      },
      {
       "name": "stdout",
       "output_type": "stream",
       "stream": "stdout",
       "text": [
        "\n"
       ]
      },
      {
       "output_type": "stream",
       "stream": "stdout",
       "text": [
        "[7, 5, 3, 1, 6, 0, 2, 4] [7, 5, 3, 1, 6, 4, 2, 4]\n",
        "len of states  56\n",
        "[(5, 4), (2, 1), (2, 7)]\n"
       ]
      },
      {
       "name": "stdout",
       "output_type": "stream",
       "stream": "stdout",
       "text": [
        "\n"
       ]
      },
      {
       "output_type": "stream",
       "stream": "stdout",
       "text": [
        "[7, 5, 1, 1, 6, 0, 2, 4] [7, 5, 3, 1, 6, 0, 2, 4]\n",
        "len of states  56\n",
        "[(3, 3), (3, 6), (2, 7), (2, 3)]\n"
       ]
      },
      {
       "name": "stdout",
       "output_type": "stream",
       "stream": "stdout",
       "text": [
        "\n"
       ]
      },
      {
       "output_type": "stream",
       "stream": "stdout",
       "text": [
        "[7, 5, 1, 3, 6, 0, 2, 4] [7, 5, 1, 1, 6, 0, 2, 4]\n",
        "len of states  56\n",
        "[(3, 6), (3, 1)]\n"
       ]
      },
      {
       "name": "stdout",
       "output_type": "stream",
       "stream": "stdout",
       "text": [
        "\n"
       ]
      },
      {
       "output_type": "stream",
       "stream": "stdout",
       "text": [
        "[7, 5, 1, 6, 6, 0, 2, 4] [7, 5, 1, 3, 6, 0, 2, 4]\n",
        "len of states  56\n",
        "[(3, 3), (3, 1)]\n"
       ]
      },
      {
       "name": "stdout",
       "output_type": "stream",
       "stream": "stdout",
       "text": [
        "\n"
       ]
      },
      {
       "output_type": "stream",
       "stream": "stdout",
       "text": [
        "[7, 5, 1, 1, 6, 0, 2, 4] [7, 5, 1, 6, 6, 0, 2, 4]\n",
        "len of states  56\n",
        "[(3, 3), (3, 6), (2, 7), (2, 3)]\n"
       ]
      },
      {
       "name": "stdout",
       "output_type": "stream",
       "stream": "stdout",
       "text": [
        "\n"
       ]
      },
      {
       "output_type": "stream",
       "stream": "stdout",
       "text": [
        "[7, 5, 3, 1, 6, 0, 2, 4] [7, 5, 1, 1, 6, 0, 2, 4]\n",
        "len of states  56\n",
        "[(5, 4), (2, 1), (2, 7)]\n"
       ]
      },
      {
       "name": "stdout",
       "output_type": "stream",
       "stream": "stdout",
       "text": [
        "\n"
       ]
      },
      {
       "output_type": "stream",
       "stream": "stdout",
       "text": [
        "[7, 5, 1, 1, 6, 0, 2, 4] [7, 5, 3, 1, 6, 0, 2, 4]\n",
        "len of states  56\n",
        "[(3, 3), (3, 6), (2, 7), (2, 3)]\n"
       ]
      },
      {
       "name": "stdout",
       "output_type": "stream",
       "stream": "stdout",
       "text": [
        "\n"
       ]
      },
      {
       "output_type": "stream",
       "stream": "stdout",
       "text": [
        "[7, 5, 7, 1, 6, 0, 2, 4] [7, 5, 1, 1, 6, 0, 2, 4]\n",
        "len of states  56\n",
        "[(0, 3)]\n"
       ]
      },
      {
       "name": "stdout",
       "output_type": "stream",
       "stream": "stdout",
       "text": [
        "\n"
       ]
      },
      {
       "output_type": "stream",
       "stream": "stdout",
       "text": [
        "[3, 5, 7, 1, 6, 0, 2, 4] [7, 5, 7, 1, 6, 0, 2, 4]\n",
        "len of states  56\n",
        "[]\n"
       ]
      },
      {
       "name": "stdout",
       "output_type": "stream",
       "stream": "stdout",
       "text": [
        "\n"
       ]
      }
     ],
     "prompt_number": 52
    },
    {
     "cell_type": "code",
     "collapsed": false,
     "input": [
      "\n",
      "def get_heuristics_for_8_queen(board):\n",
      "  h = 0\n",
      "  for i in range(len(board)):\n",
      "    #Check every column we haven't already checked\n",
      "    for j in range(i + 1,len(board)):\n",
      "      #Queens are in the same row\n",
      "      if board[i] == board[j]:\n",
      "        h += 1\n",
      "      #Get the difference between the current column\n",
      "      #and the check column\n",
      "      offset = j - i\n",
      "      #To be a diagonal, the check column value has to be \n",
      "      #equal to the current column value +/- the offset\n",
      "      if board[i] == board[j] - offset or board[i] == board[j] + offset:\n",
      "        h += 1\n",
      "     \n",
      "  return h\n",
      "    \n",
      "get_heuristics_for_8_queen([3, 7, 0, 4, 6, 1, 5, 2])    "
     ],
     "language": "python",
     "metadata": {},
     "outputs": [
      {
       "metadata": {},
       "output_type": "pyout",
       "prompt_number": 51,
       "text": [
        "0"
       ]
      }
     ],
     "prompt_number": 51
    },
    {
     "cell_type": "code",
     "collapsed": false,
     "input": [],
     "language": "python",
     "metadata": {},
     "outputs": [],
     "prompt_number": 38
    },
    {
     "cell_type": "code",
     "collapsed": false,
     "input": [
      "import math\n",
      "import random\n",
      " \n",
      "def get_h_cost(board):\n",
      "  h = 0\n",
      "  for i in range(len(board)):\n",
      "    #Check every column we haven't already checked\n",
      "    for j in range(i + 1,len(board)):\n",
      "      #Queens are in the same row\n",
      "      if board[i] == board[j]:\n",
      "        h += 1\n",
      "      #Get the difference between the current column\n",
      "      #and the check column\n",
      "      offset = j - i\n",
      "      #To be a diagonal, the check column value has to be \n",
      "      #equal to the current column value +/- the offset\n",
      "      if board[i] == board[j] - offset or board[i] == board[j] + offset:\n",
      "        h += 1\n",
      "  return h    \n",
      "    \n",
      "    \n",
      "def annealing(board):\n",
      "  temp = len(board)**2\n",
      "  anneal_rate = 0.95\n",
      "  new_h_cost = get_h_cost(board)\n",
      "  print new_h_cost\n",
      "  steps = 0\n",
      "  while new_h_cost > 0:\n",
      "    board = make_annealing_move(board,new_h_cost,temp)\n",
      "    new_h_cost = get_h_cost(board)\n",
      "    #Make sure temp doesn't get impossibly low\n",
      "    new_temp = max(temp * anneal_rate,0.01)\n",
      "    temp = new_temp\n",
      "    if steps >= 250:\n",
      "      break\n",
      "    steps = steps+1\n",
      "    #print steps\n",
      "  return new_h_cost\n",
      " \n",
      "def make_annealing_move(board,h_to_beat,temp):\n",
      "  board_copy = list(board)\n",
      "  found_move = False\n",
      " \n",
      "  while not found_move:\n",
      "    new_row = random.randint(0,len(board)-1)\n",
      "    new_col = random.randint(0,len(board)-1)\n",
      "    board_copy[new_col] = new_row\n",
      "    new_h_cost = get_h_cost(board_copy)\n",
      "    if new_h_cost < h_to_beat:\n",
      "      found_move = True\n",
      "    else:\n",
      "      #How bad was the choice?\n",
      "      delta_e = h_to_beat - new_h_cost\n",
      "      #Probability can never exceed 1\n",
      "      accept_probability = min(1, math.exp(delta_e/temp))\n",
      "      found_move = random.random() <= accept_probability\n",
      "  #print board_copy \n",
      "  return board_copy\n",
      "    \n",
      "    \n",
      "print annealing([3, 2, 1, 4, 3, 2, 1, 2])    "
     ],
     "language": "python",
     "metadata": {},
     "outputs": [
      {
       "output_type": "stream",
       "stream": "stdout",
       "text": [
        "17\n",
        "0"
       ]
      },
      {
       "output_type": "stream",
       "stream": "stdout",
       "text": [
        "\n"
       ]
      }
     ],
     "prompt_number": 25
    },
    {
     "cell_type": "code",
     "collapsed": false,
     "input": [],
     "language": "python",
     "metadata": {},
     "outputs": [],
     "prompt_number": 0
    },
    {
     "cell_type": "code",
     "collapsed": false,
     "input": [],
     "language": "python",
     "metadata": {},
     "outputs": []
    }
   ],
   "metadata": {}
  }
 ]
}